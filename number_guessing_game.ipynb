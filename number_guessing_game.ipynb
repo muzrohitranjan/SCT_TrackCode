{
 "cells": [
  {
   "cell_type": "code",
   "execution_count": null,
   "id": "3873a485-75fa-461e-869e-762dd75be7d7",
   "metadata": {},
   "outputs": [],
   "source": []
  },
  {
   "cell_type": "code",
   "execution_count": null,
   "id": "4472d34a-1b90-4c35-b3f9-f2f8c37d40d6",
   "metadata": {},
   "outputs": [
    {
     "name": "stdout",
     "output_type": "stream",
     "text": [
      "Welcome to the Number Guessing Game!\n",
      "-------------------------------------\n"
     ]
    },
    {
     "name": "stdin",
     "output_type": "stream",
     "text": [
      "Guess a number between 1 and 100 (or 'quit' to exit):  55\n"
     ]
    },
    {
     "name": "stdout",
     "output_type": "stream",
     "text": [
      "Too high! Try again.\n"
     ]
    },
    {
     "name": "stdin",
     "output_type": "stream",
     "text": [
      "Guess a number between 1 and 100 (or 'quit' to exit):  3\n"
     ]
    },
    {
     "name": "stdout",
     "output_type": "stream",
     "text": [
      "Too low! Try again.\n"
     ]
    },
    {
     "name": "stdin",
     "output_type": "stream",
     "text": [
      "Guess a number between 1 and 100 (or 'quit' to exit):  6\n"
     ]
    },
    {
     "name": "stdout",
     "output_type": "stream",
     "text": [
      "Too low! Try again.\n"
     ]
    },
    {
     "name": "stdin",
     "output_type": "stream",
     "text": [
      "Guess a number between 1 and 100 (or 'quit' to exit):  45\n"
     ]
    },
    {
     "name": "stdout",
     "output_type": "stream",
     "text": [
      "Too high! Try again.\n"
     ]
    },
    {
     "name": "stdin",
     "output_type": "stream",
     "text": [
      "Guess a number between 1 and 100 (or 'quit' to exit):  33\n"
     ]
    },
    {
     "name": "stdout",
     "output_type": "stream",
     "text": [
      "Too high! Try again.\n"
     ]
    },
    {
     "name": "stdin",
     "output_type": "stream",
     "text": [
      "Guess a number between 1 and 100 (or 'quit' to exit):  22\n"
     ]
    },
    {
     "name": "stdout",
     "output_type": "stream",
     "text": [
      "Too high! Try again.\n"
     ]
    },
    {
     "name": "stdin",
     "output_type": "stream",
     "text": [
      "Guess a number between 1 and 100 (or 'quit' to exit):  609\n"
     ]
    },
    {
     "name": "stdout",
     "output_type": "stream",
     "text": [
      "Invalid input. Please enter a number between 1 and 100.\n"
     ]
    },
    {
     "name": "stdin",
     "output_type": "stream",
     "text": [
      "Guess a number between 1 and 100 (or 'quit' to exit):  56\n"
     ]
    },
    {
     "name": "stdout",
     "output_type": "stream",
     "text": [
      "Too high! Try again.\n"
     ]
    },
    {
     "name": "stdin",
     "output_type": "stream",
     "text": [
      "Guess a number between 1 and 100 (or 'quit' to exit):  45\n"
     ]
    },
    {
     "name": "stdout",
     "output_type": "stream",
     "text": [
      "Too high! Try again.\n"
     ]
    },
    {
     "name": "stdin",
     "output_type": "stream",
     "text": [
      "Guess a number between 1 and 100 (or 'quit' to exit):  22\n"
     ]
    },
    {
     "name": "stdout",
     "output_type": "stream",
     "text": [
      "Too high! Try again.\n"
     ]
    },
    {
     "name": "stdin",
     "output_type": "stream",
     "text": [
      "Guess a number between 1 and 100 (or 'quit' to exit):  45\n"
     ]
    },
    {
     "name": "stdout",
     "output_type": "stream",
     "text": [
      "Too high! Try again.\n"
     ]
    },
    {
     "name": "stdin",
     "output_type": "stream",
     "text": [
      "Guess a number between 1 and 100 (or 'quit' to exit):  11\n"
     ]
    },
    {
     "name": "stdout",
     "output_type": "stream",
     "text": [
      "Too low! Try again.\n"
     ]
    },
    {
     "name": "stdin",
     "output_type": "stream",
     "text": [
      "Guess a number between 1 and 100 (or 'quit' to exit):  20\n"
     ]
    },
    {
     "name": "stdout",
     "output_type": "stream",
     "text": [
      "Too high! Try again.\n"
     ]
    }
   ],
   "source": [
    "#number and ch alenges the user to guess it the program should prompt the user to input their guess compare \n",
    "#it to the generated number write python code\n",
    "#skill craft\n",
    "#task number 2\n",
    "import random\n",
    "\n",
    "def number_guessing_game():\n",
    "    print(\"Welcome to the Number Guessing Game!\")\n",
    "    print(\"-------------------------------------\")\n",
    "\n",
    "    # Generate a random number between 1 and 100\n",
    "    number_to_guess = random.randint(1, 100)\n",
    "\n",
    "    # Initialize the number of attempts\n",
    "    attempts = 0\n",
    "\n",
    "    while True:\n",
    "        # Prompt the user to input their guess\n",
    "        user_guess = input(\"Guess a number between 1 and 100 (or 'quit' to exit): \")\n",
    "\n",
    "        # Check if the user wants to quit\n",
    "        if user_guess.lower() == \"quit\":\n",
    "            print(\"Goodbye!\")\n",
    "            break\n",
    "\n",
    "        # Try to convert the user's guess to an integer\n",
    "        try:\n",
    "            user_guess = int(user_guess)\n",
    "        except ValueError:\n",
    "            print(\"Invalid input. Please enter a whole number.\")\n",
    "            continue\n",
    "\n",
    "        # Check if the user's guess is in the valid range\n",
    "        if user_guess < 1 or user_guess > 100:\n",
    "            print(\"Invalid input. Please enter a number between 1 and 100.\")\n",
    "            continue\n",
    "\n",
    "        # Increment the number of attempts\n",
    "        attempts += 1\n",
    "\n",
    "        # Compare the user's guess to the generated number\n",
    "        if user_guess < number_to_guess:\n",
    "            print(\"Too low! Try again.\")\n",
    "        elif user_guess > number_to_guess:\n",
    "            print(\"Too high! Try again.\")\n",
    "        else:\n",
    "            print(f\"Congratulations! You guessed the number in {attempts} attempts.\")\n",
    "            break\n",
    "\n",
    "number_guessing_game()\n",
    "\n",
    "\n"
   ]
  },
  {
   "cell_type": "code",
   "execution_count": null,
   "id": "9abbced0-c581-4f39-abcd-89ff57a43572",
   "metadata": {},
   "outputs": [],
   "source": []
  },
  {
   "cell_type": "code",
   "execution_count": null,
   "id": "1db1943f-aadd-40c0-8e44-a832da9ad7c6",
   "metadata": {},
   "outputs": [],
   "source": []
  },
  {
   "cell_type": "code",
   "execution_count": null,
   "id": "84938cfd-dd35-4108-8f05-d3b39d6323c4",
   "metadata": {},
   "outputs": [],
   "source": []
  }
 ],
 "metadata": {
  "kernelspec": {
   "display_name": "Python [conda env:base] *",
   "language": "python",
   "name": "conda-base-py"
  },
  "language_info": {
   "codemirror_mode": {
    "name": "ipython",
    "version": 3
   },
   "file_extension": ".py",
   "mimetype": "text/x-python",
   "name": "python",
   "nbconvert_exporter": "python",
   "pygments_lexer": "ipython3",
   "version": "3.12.7"
  }
 },
 "nbformat": 4,
 "nbformat_minor": 5
}
