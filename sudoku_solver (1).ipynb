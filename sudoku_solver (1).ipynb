{
 "cells": [
  {
   "cell_type": "code",
   "execution_count": 1,
   "id": "c216c853-83d8-4f5e-8c80-1e693c62993f",
   "metadata": {},
   "outputs": [
    {
     "name": "stdout",
     "output_type": "stream",
     "text": [
      "5 3 4  | 6 7 8  | 9 1 2\n",
      "6 7 2  | 1 9 5  | 3 4 8\n",
      "1 9 8  | 3 4 2  | 5 6 7\n",
      "- - - - - - - - - - - -\n",
      "8 5 9  | 7 6 1  | 4 2 3\n",
      "4 2 6  | 8 5 3  | 7 9 1\n",
      "7 1 3  | 9 2 4  | 8 5 6\n",
      "- - - - - - - - - - - -\n",
      "9 6 1  | 5 3 7  | 2 8 4\n",
      "2 8 7  | 4 1 9  | 6 3 5\n",
      "3 4 5  | 2 8 6  | 1 7 9\n"
     ]
    }
   ],
   "source": [
    "#sudoku_solver\n",
    "#create a program that solves sudou puzzles automaticall the program should take an input grid representing an unsolved sudoku puzzle and use an \n",
    "#algorithm to fill the missing numbers write the python code\n",
    "#skill craft\n",
    "#task no 3\n",
    "def is_valid(board, row, col, num):\n",
    "    # Check the row\n",
    "    for x in range(9):\n",
    "        if board[row][x] == num:\n",
    "            return False\n",
    "\n",
    "    # Check the column\n",
    "    for x in range(9):\n",
    "        if board[x][col] == num:\n",
    "            return False\n",
    "\n",
    "    # Check the box\n",
    "    start_row = row - row % 3\n",
    "    start_col = col - col % 3\n",
    "    for i in range(3):\n",
    "        for j in range(3):\n",
    "            if board[i + start_row][j + start_col] == num:\n",
    "                return False\n",
    "    return True\n",
    "\n",
    "def solve_sudoku(board):\n",
    "    for i in range(9):\n",
    "        for j in range(9):\n",
    "            if board[i][j] == 0:\n",
    "                for num in range(1, 10):\n",
    "                    if is_valid(board, i, j, num):\n",
    "                        board[i][j] = num\n",
    "                        if solve_sudoku(board):\n",
    "                            return True\n",
    "                        board[i][j] = 0\n",
    "                return False\n",
    "    return True\n",
    "\n",
    "def print_board(board):\n",
    "    for i in range(9):\n",
    "        if i % 3 == 0 and i != 0:\n",
    "            print(\"- - - - - - - - - - - -\")\n",
    "        for j in range(9):\n",
    "            if j % 3 == 0 and j != 0:\n",
    "                print(\" | \", end=\"\")\n",
    "            if j == 8:\n",
    "                print(board[i][j])\n",
    "            else:\n",
    "                print(str(board[i][j]) + \" \", end=\"\")\n",
    "\n",
    "# Test the program with an unsolved Sudoku puzzle\n",
    "board = [\n",
    "    [5, 3, 0, 0, 7, 0, 0, 0, 0],\n",
    "    [6, 0, 0, 1, 9, 5, 0, 0, 0],\n",
    "    [0, 9, 8, 0, 0, 0, 0, 6, 0],\n",
    "    [8, 0, 0, 0, 6, 0, 0, 0, 3],\n",
    "    [4, 0, 0, 8, 0, 3, 0, 0, 1],\n",
    "    [7, 0, 0, 0, 2, 0, 0, 0, 6],\n",
    "    [0, 6, 0, 0, 0, 0, 2, 8, 0],\n",
    "    [0, 0, 0, 4, 1, 9, 0, 0, 5],\n",
    "    [0, 0, 0, 0, 8, 0, 0, 7, 9]\n",
    "]\n",
    "\n",
    "if solve_sudoku(board):\n",
    "    print_board(board)\n",
    "else:\n",
    "    print(\"No solution exists\")\n"
   ]
  },
  {
   "cell_type": "code",
   "execution_count": null,
   "id": "4770af1a-0019-44d6-93bd-e81d6889b8e9",
   "metadata": {},
   "outputs": [],
   "source": []
  }
 ],
 "metadata": {
  "kernelspec": {
   "display_name": "Python [conda env:base] *",
   "language": "python",
   "name": "conda-base-py"
  },
  "language_info": {
   "codemirror_mode": {
    "name": "ipython",
    "version": 3
   },
   "file_extension": ".py",
   "mimetype": "text/x-python",
   "name": "python",
   "nbconvert_exporter": "python",
   "pygments_lexer": "ipython3",
   "version": "3.12.7"
  }
 },
 "nbformat": 4,
 "nbformat_minor": 5
}
