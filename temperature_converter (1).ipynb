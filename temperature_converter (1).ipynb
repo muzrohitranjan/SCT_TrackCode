{
 "cells": [
  {
   "cell_type": "code",
   "execution_count": 5,
   "id": "4584cbc7-b993-463d-9f1c-99fb152f270b",
   "metadata": {},
   "outputs": [],
   "source": []
  },
  {
   "cell_type": "code",
   "execution_count": null,
   "id": "2f5ecbd6-7b35-42de-9072-b62a561e74d6",
   "metadata": {},
   "outputs": [
    {
     "name": "stdout",
     "output_type": "stream",
     "text": [
      "Temperature Converter Program\n",
      "-------------------------------\n",
      "1. Convert Celsius to Fahrenheit\n",
      "2. Convert Fahrenheit to Celsius\n",
      "3. Convert Celsius to Kelvin\n",
      "4. Convert Kelvin to Celsius\n",
      "5. Convert Fahrenheit to Kelvin\n",
      "6. Convert Kelvin to Fahrenheit\n",
      "7. Quit\n"
     ]
    },
    {
     "name": "stdin",
     "output_type": "stream",
     "text": [
      "Enter your choice (1-7):  2\n",
      "Enter temperature in Fahrenheit:  44\n"
     ]
    },
    {
     "name": "stdout",
     "output_type": "stream",
     "text": [
      "44.0°F is equal to 6.666666666666667°C\n",
      "1. Convert Celsius to Fahrenheit\n",
      "2. Convert Fahrenheit to Celsius\n",
      "3. Convert Celsius to Kelvin\n",
      "4. Convert Kelvin to Celsius\n",
      "5. Convert Fahrenheit to Kelvin\n",
      "6. Convert Kelvin to Fahrenheit\n",
      "7. Quit\n"
     ]
    },
    {
     "name": "stdin",
     "output_type": "stream",
     "text": [
      "Enter your choice (1-7):  6\n"
     ]
    }
   ],
   "source": [
    "#create a program that converts temperature between celsius and fahrenheit and kelvin scales\n",
    "#skill craft\n",
    "#Task Number ONE\n",
    "def convert_celsius_to_fahrenheit(celsius):\n",
    "    \"\"\"Converts Celsius to Fahrenheit\"\"\"\n",
    "    return (celsius * 9/5) + 32\n",
    "\n",
    "def convert_fahrenheit_to_celsius(fahrenheit):\n",
    "    \"\"\"Converts Fahrenheit to Celsius\"\"\"\n",
    "    return (fahrenheit - 32) * 5/9\n",
    "\n",
    "def convert_celsius_to_kelvin(celsius):\n",
    "    \"\"\"Converts Celsius to Kelvin\"\"\"\n",
    "    return celsius + 273.15\n",
    "\n",
    "def convert_kelvin_to_celsius(kelvin):\n",
    "    \"\"\"Converts Kelvin to Celsius\"\"\"\n",
    "    return kelvin - 273.15\n",
    "2\n",
    "def convert_fahrenheit_to_kelvin(fahrenheit):\n",
    "    \"\"\"Converts Fahrenheit to Kelvin\"\"\"\n",
    "    return (fahrenheit - 32) * 5/9 + 273.15\n",
    "\n",
    "def convert_kelvin_to_fahrenheit(kelvin):\n",
    "    \"\"\"Converts Kelvin to Fahrenheit\"\"\"\n",
    "    return (kelvin - 273.15) * 9/5 + 32\n",
    "\n",
    "def main():\n",
    "    print(\"Temperature Converter Program\")\n",
    "    print(\"-------------------------------\")\n",
    "\n",
    "    while True:\n",
    "        print(\"1. Convert Celsius to Fahrenheit\")\n",
    "        print(\"2. Convert Fahrenheit to Celsius\")\n",
    "        print(\"3. Convert Celsius to Kelvin\")\n",
    "        print(\"4. Convert Kelvin to Celsius\")\n",
    "        print(\"5. Convert Fahrenheit to Kelvin\")\n",
    "        print(\"6. Convert Kelvin to Fahrenheit\")\n",
    "        print(\"7. Quit\")\n",
    "\n",
    "        choice = input(\"Enter your choice (1-7): \")\n",
    "\n",
    "        if choice == \"1\":\n",
    "            celsius = float(input(\"Enter temperature in Celsius: \"))\n",
    "            fahrenheit = convert_celsius_to_fahrenheit(celsius)\n",
    "            print(f\"{celsius}°C is equal to {fahrenheit}°F\")\n",
    "        elif choice == \"2\":\n",
    "            fahrenheit = float(input(\"Enter temperature in Fahrenheit: \"))\n",
    "            celsius = convert_fahrenheit_to_celsius(fahrenheit)\n",
    "            print(f\"{fahrenheit}°F is equal to {celsius}°C\")\n",
    "        elif choice == \"3\":\n",
    "            celsius = float(input(\"Enter temperature in Celsius: \"))\n",
    "            kelvin = convert_celsius_to_kelvin(celsius)\n",
    "            print(f\"{celsius}°C is equal to {kelvin}K\")\n",
    "        elif choice == \"4\":\n",
    "            kelvin = float(input(\"Enter temperature in Kelvin: \"))\n",
    "            celsius = convert_kelvin_to_celsius(kelvin)\n",
    "            print(f\"{kelvin}K is equal to {celsius}°C\")\n",
    "        elif choice == \"5\":\n",
    "            fahrenheit = float(input(\"Enter temperature in Fahrenheit: \"))\n",
    "            kelvin = convert_fahrenheit_to_kelvin(fahrenheit)\n",
    "            print(f\"{fahrenheit}°F is equal to {kelvin}K\")\n",
    "        elif choice == \"6\":\n",
    "            kelvin = float(input(\"Enter temperature in Kelvin: \"))\n",
    "            fahrenheit = convert_kelvin_to_fahrenheit(kelvin)\n",
    "            print(f\"{kelvin}K is equal to {fahrenheit}°F\")\n",
    "        elif choice == \"7\":\n",
    "            print(\"Goodbye!\")\n",
    "            break\n",
    "        else:\n",
    "            print(\"Invalid choice. Please try again.\")\n",
    "\n",
    "if __name__ == \"__main__\":\n",
    "    main()\n",
    "\n"
   ]
  },
  {
   "cell_type": "markdown",
   "id": "c21dcd05-a216-437a-bb6e-11fa53bd56db",
   "metadata": {},
   "source": [
    "###### "
   ]
  }
 ],
 "metadata": {
  "kernelspec": {
   "display_name": "Python [conda env:base] *",
   "language": "python",
   "name": "conda-base-py"
  },
  "language_info": {
   "codemirror_mode": {
    "name": "ipython",
    "version": 3
   },
   "file_extension": ".py",
   "mimetype": "text/x-python",
   "name": "python",
   "nbconvert_exporter": "python",
   "pygments_lexer": "ipython3",
   "version": "3.12.7"
  }
 },
 "nbformat": 4,
 "nbformat_minor": 5
}
